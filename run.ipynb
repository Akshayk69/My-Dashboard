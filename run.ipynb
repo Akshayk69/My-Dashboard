{
 "cells": [
  {
   "cell_type": "code",
   "execution_count": 1,
   "id": "1c197fc3-667e-4062-ba0a-8e44acb41f85",
   "metadata": {},
   "outputs": [],
   "source": [
    "import streamlit"
   ]
  },
  {
   "cell_type": "code",
   "execution_count": null,
   "id": "bdcd8750-f33d-4c3c-a405-ad1a77d139b1",
   "metadata": {},
   "outputs": [],
   "source": [
    "!streamlit run v1_only_dec_adjust.py"
   ]
  },
  {
   "cell_type": "code",
   "execution_count": 1,
   "id": "9d8a1b28-c98b-470d-8f58-8ac567a34821",
   "metadata": {},
   "outputs": [
    {
     "name": "stdout",
     "output_type": "stream",
     "text": [
      "^C\n"
     ]
    }
   ],
   "source": [
    "!streamlit run gau4.py"
   ]
  },
  {
   "cell_type": "code",
   "execution_count": 1,
   "id": "44a9e2dd-3f5f-42fa-b788-6efc405bd64e",
   "metadata": {},
   "outputs": [
    {
     "name": "stdout",
     "output_type": "stream",
     "text": [
      "^C\n"
     ]
    }
   ],
   "source": [
    "!streamlit run gau3v1.py"
   ]
  },
  {
   "cell_type": "code",
   "execution_count": null,
   "id": "0f7e6dae-e9dc-4010-a2cf-29789230b193",
   "metadata": {},
   "outputs": [],
   "source": []
  }
 ],
 "metadata": {
  "kernelspec": {
   "display_name": "Python 3 (ipykernel)",
   "language": "python",
   "name": "python3"
  },
  "language_info": {
   "codemirror_mode": {
    "name": "ipython",
    "version": 3
   },
   "file_extension": ".py",
   "mimetype": "text/x-python",
   "name": "python",
   "nbconvert_exporter": "python",
   "pygments_lexer": "ipython3",
   "version": "3.13.3"
  }
 },
 "nbformat": 4,
 "nbformat_minor": 5
}
